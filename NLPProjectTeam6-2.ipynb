{
  "nbformat": 4,
  "nbformat_minor": 0,
  "metadata": {
    "colab": {
      "provenance": []
    },
    "kernelspec": {
      "name": "python3",
      "display_name": "Python 3"
    },
    "language_info": {
      "name": "python"
    },
    "widgets": {
      "application/vnd.jupyter.widget-state+json": {
        "34df3b5c767b422eb6c534bbbbc4345d": {
          "model_module": "@jupyter-widgets/controls",
          "model_name": "HBoxModel",
          "model_module_version": "1.5.0",
          "state": {
            "_dom_classes": [],
            "_model_module": "@jupyter-widgets/controls",
            "_model_module_version": "1.5.0",
            "_model_name": "HBoxModel",
            "_view_count": null,
            "_view_module": "@jupyter-widgets/controls",
            "_view_module_version": "1.5.0",
            "_view_name": "HBoxView",
            "box_style": "",
            "children": [
              "IPY_MODEL_ed2ea180548a4d0b983d8d78fd3665af",
              "IPY_MODEL_7675aa18b1054a9193bbbefe01ac8a16",
              "IPY_MODEL_a86fe9fe3e9d41a49773d19c9bdfb5e1"
            ],
            "layout": "IPY_MODEL_f724a2ec31c7479a90ad4d23f0dff51c"
          }
        },
        "ed2ea180548a4d0b983d8d78fd3665af": {
          "model_module": "@jupyter-widgets/controls",
          "model_name": "HTMLModel",
          "model_module_version": "1.5.0",
          "state": {
            "_dom_classes": [],
            "_model_module": "@jupyter-widgets/controls",
            "_model_module_version": "1.5.0",
            "_model_name": "HTMLModel",
            "_view_count": null,
            "_view_module": "@jupyter-widgets/controls",
            "_view_module_version": "1.5.0",
            "_view_name": "HTMLView",
            "description": "",
            "description_tooltip": null,
            "layout": "IPY_MODEL_f4a5c0ea157144a193e72c2501244d32",
            "placeholder": "​",
            "style": "IPY_MODEL_9b07f059aeaf4c5f8deaa38ad7c21b36",
            "value": "100%"
          }
        },
        "7675aa18b1054a9193bbbefe01ac8a16": {
          "model_module": "@jupyter-widgets/controls",
          "model_name": "FloatProgressModel",
          "model_module_version": "1.5.0",
          "state": {
            "_dom_classes": [],
            "_model_module": "@jupyter-widgets/controls",
            "_model_module_version": "1.5.0",
            "_model_name": "FloatProgressModel",
            "_view_count": null,
            "_view_module": "@jupyter-widgets/controls",
            "_view_module_version": "1.5.0",
            "_view_name": "ProgressView",
            "bar_style": "success",
            "description": "",
            "description_tooltip": null,
            "layout": "IPY_MODEL_d7d767209dd34bc490a9ed8fd1ac0c1c",
            "max": 959,
            "min": 0,
            "orientation": "horizontal",
            "style": "IPY_MODEL_bd9c5be7cdce41b09a31c6488c0e1d3a",
            "value": 959
          }
        },
        "a86fe9fe3e9d41a49773d19c9bdfb5e1": {
          "model_module": "@jupyter-widgets/controls",
          "model_name": "HTMLModel",
          "model_module_version": "1.5.0",
          "state": {
            "_dom_classes": [],
            "_model_module": "@jupyter-widgets/controls",
            "_model_module_version": "1.5.0",
            "_model_name": "HTMLModel",
            "_view_count": null,
            "_view_module": "@jupyter-widgets/controls",
            "_view_module_version": "1.5.0",
            "_view_name": "HTMLView",
            "description": "",
            "description_tooltip": null,
            "layout": "IPY_MODEL_1f50a68278db45769cc82716e4659a85",
            "placeholder": "​",
            "style": "IPY_MODEL_8351f8e60bac489da453da0f2a96ade8",
            "value": " 959/959 [00:07&lt;00:00, 97.87it/s]"
          }
        },
        "f724a2ec31c7479a90ad4d23f0dff51c": {
          "model_module": "@jupyter-widgets/base",
          "model_name": "LayoutModel",
          "model_module_version": "1.2.0",
          "state": {
            "_model_module": "@jupyter-widgets/base",
            "_model_module_version": "1.2.0",
            "_model_name": "LayoutModel",
            "_view_count": null,
            "_view_module": "@jupyter-widgets/base",
            "_view_module_version": "1.2.0",
            "_view_name": "LayoutView",
            "align_content": null,
            "align_items": null,
            "align_self": null,
            "border": null,
            "bottom": null,
            "display": null,
            "flex": null,
            "flex_flow": null,
            "grid_area": null,
            "grid_auto_columns": null,
            "grid_auto_flow": null,
            "grid_auto_rows": null,
            "grid_column": null,
            "grid_gap": null,
            "grid_row": null,
            "grid_template_areas": null,
            "grid_template_columns": null,
            "grid_template_rows": null,
            "height": null,
            "justify_content": null,
            "justify_items": null,
            "left": null,
            "margin": null,
            "max_height": null,
            "max_width": null,
            "min_height": null,
            "min_width": null,
            "object_fit": null,
            "object_position": null,
            "order": null,
            "overflow": null,
            "overflow_x": null,
            "overflow_y": null,
            "padding": null,
            "right": null,
            "top": null,
            "visibility": null,
            "width": null
          }
        },
        "f4a5c0ea157144a193e72c2501244d32": {
          "model_module": "@jupyter-widgets/base",
          "model_name": "LayoutModel",
          "model_module_version": "1.2.0",
          "state": {
            "_model_module": "@jupyter-widgets/base",
            "_model_module_version": "1.2.0",
            "_model_name": "LayoutModel",
            "_view_count": null,
            "_view_module": "@jupyter-widgets/base",
            "_view_module_version": "1.2.0",
            "_view_name": "LayoutView",
            "align_content": null,
            "align_items": null,
            "align_self": null,
            "border": null,
            "bottom": null,
            "display": null,
            "flex": null,
            "flex_flow": null,
            "grid_area": null,
            "grid_auto_columns": null,
            "grid_auto_flow": null,
            "grid_auto_rows": null,
            "grid_column": null,
            "grid_gap": null,
            "grid_row": null,
            "grid_template_areas": null,
            "grid_template_columns": null,
            "grid_template_rows": null,
            "height": null,
            "justify_content": null,
            "justify_items": null,
            "left": null,
            "margin": null,
            "max_height": null,
            "max_width": null,
            "min_height": null,
            "min_width": null,
            "object_fit": null,
            "object_position": null,
            "order": null,
            "overflow": null,
            "overflow_x": null,
            "overflow_y": null,
            "padding": null,
            "right": null,
            "top": null,
            "visibility": null,
            "width": null
          }
        },
        "9b07f059aeaf4c5f8deaa38ad7c21b36": {
          "model_module": "@jupyter-widgets/controls",
          "model_name": "DescriptionStyleModel",
          "model_module_version": "1.5.0",
          "state": {
            "_model_module": "@jupyter-widgets/controls",
            "_model_module_version": "1.5.0",
            "_model_name": "DescriptionStyleModel",
            "_view_count": null,
            "_view_module": "@jupyter-widgets/base",
            "_view_module_version": "1.2.0",
            "_view_name": "StyleView",
            "description_width": ""
          }
        },
        "d7d767209dd34bc490a9ed8fd1ac0c1c": {
          "model_module": "@jupyter-widgets/base",
          "model_name": "LayoutModel",
          "model_module_version": "1.2.0",
          "state": {
            "_model_module": "@jupyter-widgets/base",
            "_model_module_version": "1.2.0",
            "_model_name": "LayoutModel",
            "_view_count": null,
            "_view_module": "@jupyter-widgets/base",
            "_view_module_version": "1.2.0",
            "_view_name": "LayoutView",
            "align_content": null,
            "align_items": null,
            "align_self": null,
            "border": null,
            "bottom": null,
            "display": null,
            "flex": null,
            "flex_flow": null,
            "grid_area": null,
            "grid_auto_columns": null,
            "grid_auto_flow": null,
            "grid_auto_rows": null,
            "grid_column": null,
            "grid_gap": null,
            "grid_row": null,
            "grid_template_areas": null,
            "grid_template_columns": null,
            "grid_template_rows": null,
            "height": null,
            "justify_content": null,
            "justify_items": null,
            "left": null,
            "margin": null,
            "max_height": null,
            "max_width": null,
            "min_height": null,
            "min_width": null,
            "object_fit": null,
            "object_position": null,
            "order": null,
            "overflow": null,
            "overflow_x": null,
            "overflow_y": null,
            "padding": null,
            "right": null,
            "top": null,
            "visibility": null,
            "width": null
          }
        },
        "bd9c5be7cdce41b09a31c6488c0e1d3a": {
          "model_module": "@jupyter-widgets/controls",
          "model_name": "ProgressStyleModel",
          "model_module_version": "1.5.0",
          "state": {
            "_model_module": "@jupyter-widgets/controls",
            "_model_module_version": "1.5.0",
            "_model_name": "ProgressStyleModel",
            "_view_count": null,
            "_view_module": "@jupyter-widgets/base",
            "_view_module_version": "1.2.0",
            "_view_name": "StyleView",
            "bar_color": null,
            "description_width": ""
          }
        },
        "1f50a68278db45769cc82716e4659a85": {
          "model_module": "@jupyter-widgets/base",
          "model_name": "LayoutModel",
          "model_module_version": "1.2.0",
          "state": {
            "_model_module": "@jupyter-widgets/base",
            "_model_module_version": "1.2.0",
            "_model_name": "LayoutModel",
            "_view_count": null,
            "_view_module": "@jupyter-widgets/base",
            "_view_module_version": "1.2.0",
            "_view_name": "LayoutView",
            "align_content": null,
            "align_items": null,
            "align_self": null,
            "border": null,
            "bottom": null,
            "display": null,
            "flex": null,
            "flex_flow": null,
            "grid_area": null,
            "grid_auto_columns": null,
            "grid_auto_flow": null,
            "grid_auto_rows": null,
            "grid_column": null,
            "grid_gap": null,
            "grid_row": null,
            "grid_template_areas": null,
            "grid_template_columns": null,
            "grid_template_rows": null,
            "height": null,
            "justify_content": null,
            "justify_items": null,
            "left": null,
            "margin": null,
            "max_height": null,
            "max_width": null,
            "min_height": null,
            "min_width": null,
            "object_fit": null,
            "object_position": null,
            "order": null,
            "overflow": null,
            "overflow_x": null,
            "overflow_y": null,
            "padding": null,
            "right": null,
            "top": null,
            "visibility": null,
            "width": null
          }
        },
        "8351f8e60bac489da453da0f2a96ade8": {
          "model_module": "@jupyter-widgets/controls",
          "model_name": "DescriptionStyleModel",
          "model_module_version": "1.5.0",
          "state": {
            "_model_module": "@jupyter-widgets/controls",
            "_model_module_version": "1.5.0",
            "_model_name": "DescriptionStyleModel",
            "_view_count": null,
            "_view_module": "@jupyter-widgets/base",
            "_view_module_version": "1.2.0",
            "_view_name": "StyleView",
            "description_width": ""
          }
        }
      }
    }
  },
  "cells": [
    {
      "cell_type": "markdown",
      "source": [
        "\"\"\"\n",
        "Project Introduction: <font class=\"color-primary_dark\">Beyond Words: Adapting NLP Methodologies for Time Series Forecasting Challenges</font>\n",
        "\n",
        "Objective:\n",
        "----------\n",
        "The primary objective of this project is to explore and evaluate the applicability of NLP techniques and deep learning frameworks in the field of time series forecasting. By leveraging models commonly used in NLP, the project aims to understand their effectiveness and adaptability to the challenges posed by time series data.\n",
        "\n",
        "Models Employed:\n",
        "----------------\n",
        "1. Autoformer: A transformer-based model adapted for time series forecasting. Detailed documentation is provided to explain each line of code, its significance, and the rationale behind its implementation.\n",
        "2. DLinear: A model focusing on linear methods in time series forecasting. Similar to Autoformer, it includes extensive documentation detailing the purpose and function of each part of the implementation.\n",
        "3. DeepAR: A recurrent neural network-based model specifically designed for probabilistic forecasting of time series data.\n",
        "4. SimpleFeedForward: A basic feedforward neural network approach to time series forecasting.\n",
        "5. WaveNet: A model that utilizes convolutional neural networks, originally designed for audio signal processing, adapted here for time series forecasting.\n",
        "\n",
        "Approach:\n",
        "---------\n",
        "The project involves implementing each model and evaluating its performance on a standardized time series dataset. For Autoformer and DLinear, comprehensive documentation is provided, dissecting each component of the code. For DeepAR, SimpleFeedForward, and WaveNet, detailed documentation is omitted as their implementation follows a similar pattern to DLinear, focusing on the practical application of these models in time series analysis.\n",
        "\n",
        "The aim is to not only assess the performance of each model via metrics like Mean Absolute Scaled Error (MASE) but also to explore how techniques developed for NLP can be modified and applied to the unique requirements of time series forecasting.\n",
        "\n",
        "Conclusion:\n",
        "-----------\n",
        "The project concludes by analyzing the performance of each model, providing insights into how NLP and deep learning techniques can be effectively utilized in time series forecasting, and identifying potential areas for further research and development in this exciting intersection of fields.\n",
        "\"\"\"\n"
      ],
      "metadata": {
        "id": "yYb_XtxRMpzZ"
      }
    },
    {
      "cell_type": "markdown",
      "source": [
        "\"\"\"\n",
        "Credits and References\n",
        "\n",
        "This project was inspired by and builds upon the principles and methodologies developed in various seminal papers and articles in the field of time series forecasting and NLP. Special acknowledgment is given to the authors of these works for their contributions to the field.\n",
        "\n",
        "Model References:\n",
        "-----------------\n",
        "1. Autoformer:\n",
        "   - Paper: \"Autoformer: Decomposition Transformers with Auto-Correlation for Long-Term Series Forecasting\"\n",
        "   - Authors: Haixu Wu, Jiehui Xu, Jianmin Wang, Mingsheng Long\n",
        "   - Link: [https://arxiv.org/abs/2106.13008](https://arxiv.org/abs/2106.13008)\n",
        "\n",
        "2. DLinear:\n",
        "   - Since DLinear is a linear approach, it is based on general principles of linear models in time series analysis rather than a specific paper.\n",
        "\n",
        "3. DeepAR:\n",
        "   - Paper: \"DeepAR: Probabilistic Forecasting with Autoregressive Recurrent Networks\"\n",
        "   - Authors: David Salinas, Valentin Flunkert, Jan Gasthaus\n",
        "   - Link: [https://arxiv.org/abs/1704.04110](https://arxiv.org/abs/1704.04110)\n",
        "\n",
        "4. SimpleFeedForward:\n",
        "   - This model is based on standard feedforward neural network architecture and does not directly reference a specific paper.\n",
        "\n",
        "5. WaveNet:\n",
        "   - Paper: \"WaveNet: A Generative Model for Raw Audio\"\n",
        "   - Authors: Aäron van den Oord et al.\n",
        "   - Link: [https://arxiv.org/abs/1609.03499](https://arxiv.org/abs/1609.03499)\n",
        "\n",
        "Special Mention:\n",
        "----------------\n",
        "The idea for this project was particularly inspired by the article on Hugging Face’s blog about Autoformer. This article provided valuable insights into the application of transformer models in the context of time series forecasting.\n",
        "- \"https://huggingface.co/blog/autoformer\"\n",
        "\n",
        "Acknowledgments:\n",
        "----------------\n",
        "We extend our gratitude to the authors of the aforementioned papers and articles. Their pioneering work in the fields of deep learning, NLP, and time series analysis has significantly contributed to the advancement of these disciplines and has been instrumental in shaping this project.\n",
        "\"\"\"\n"
      ],
      "metadata": {
        "id": "WSu2T3IGNlwk"
      }
    },
    {
      "cell_type": "markdown",
      "source": [
        "## Model Configuration\n",
        "\n",
        "In this section, we configure the fundamental parameters for our time series forecasting model. These parameters are crucial as they define the model's training dynamics and its ability to capture temporal dependencies in the data.\n",
        "\n",
        "- `prediction_length`: This parameter specifies the horizon of the forecast. We set it to 7, aiming to predict a week ahead, considering our dataset comprises daily observations.\n",
        "- `context_length`: It determines the amount of historical data the model should consider for making predictions. We use 30 days of data to forecast the next week, balancing the need for sufficient historical context with computational efficiency.\n",
        "- `batch_size`: This is the number of samples processed before the model's internal parameters are updated. The size of 64 is a compromise between training speed and memory usage, suitable for our dataset's scale.\n",
        "- `num_batches_per_epoch`: Represents the number of batches of samples in each epoch. We have adjusted this to 50, which is found to be optimal through experimentation for our dataset's size and complexity.\n",
        "- `epochs`: It denotes the number of complete passes through the entire training dataset. We have set this to 30 epochs based on initial experiments which indicate sufficient model convergence without overfitting.\n",
        "- `scaling`: This parameter is for the scaling method applied to the data. We choose \"min-max\" scaling, which scales the data within a specified range (usually 0 to 1), making our model better suited to handle different value ranges in the dataset.\n",
        "\n",
        "By carefully tuning these parameters, we aim to optimize the model's performance for our specific time series data, ensuring accurate and reliable forecasts."
      ],
      "metadata": {
        "id": "vNZfIwyoBkQg"
      }
    },
    {
      "cell_type": "code",
      "execution_count": null,
      "metadata": {
        "id": "n4BFI-Jh9lgQ"
      },
      "outputs": [],
      "source": [
        "prediction_length = 24  # For example, forecasting for the next 24 hours\n",
        "context_length = 7 * 24  # Using a week's data (7 days) to predict\n",
        "batch_size = 64          # Adjust based on dataset size and memory constraints\n",
        "num_batches_per_epoch = 50   # Adjust for dataset's size and complexity\n",
        "epochs = 30              # Set based on initial experiments for convergence\n",
        "scaling = \"min-max\"      # Choose scaling based on data distribution, \"min-max\" is common for energy data"
      ]
    },
    {
      "cell_type": "markdown",
      "source": [
        "## Model Architecture Parameters\n",
        "\n",
        "The architecture of our Transformer-based model is defined by the following parameters, which are crucial in determining its capacity to learn and generalize from our time series data.\n",
        "\n",
        "- `encoder_layers`: This parameter sets the number of layers in the model's encoder. Each layer in the encoder captures different aspects of the data, adding to the model's ability to understand complex patterns. For our dataset, which has intricate temporal dynamics, we have chosen 3 layers in the encoder.\n",
        "- `decoder_layers`: Similar to the encoder, this parameter defines the number of layers in the decoder. The decoder is responsible for generating the forecast based on the encoder's output. To match the encoder's complexity and ensure a balanced model, we also use 3 layers in the decoder.\n",
        "- `d_model`: This is the dimensionality of the layers in the model. A higher `d_model` means that the model can capture more complex features at the expense of more computational resources. Given the complexity of our dataset, we set `d_model` to 32, providing a balance between model complexity and computational efficiency.\n",
        "\n",
        "These parameters are set after considering the specific characteristics of our dataset. They are crucial for ensuring that the model is neither too simple to capture the necessary patterns in the data nor too complex to overfit or become computationally prohibitive.\n"
      ],
      "metadata": {
        "id": "d3pjfxiKBoN7"
      }
    },
    {
      "cell_type": "code",
      "source": [
        "encoder_layers=3\n",
        "decoder_layers=3\n",
        "d_model=32"
      ],
      "metadata": {
        "id": "6PpEeYN8-A4h"
      },
      "execution_count": null,
      "outputs": []
    },
    {
      "cell_type": "markdown",
      "source": [
        "## Installation of Dependencies\n",
        "\n",
        "Before diving into the implementation, it's crucial to set up our environment with all the necessary libraries. This ensures that all the tools and functionalities we need are readily available.\n",
        "\n",
        "- `transformers`: This library provides us with the Transformer models and architectures, including utilities for our Autoformer model.\n",
        "- `datasets`: A library for easily accessing and handling datasets. It provides a convenient way to load and preprocess our time series data.\n",
        "- `evaluate`: Used for evaluating and benchmarking our models, offering a range of metrics and evaluation techniques.\n",
        "- `accelerate`: This library helps in efficiently training our model by optimizing the usage of hardware resources like GPUs.\n",
        "- `gluonts[torch]`: GluonTS is a toolkit specifically designed for time series forecasting with PyTorch support. It provides essential functionalities for handling time series data and transformations.\n",
        "- `ujson` and `tqdm`: Utilities for handling JSON data and providing progress bars, respectively, enhancing the usability of our scripts.\n",
        "- `protobuf`: A necessary library for serialization and deserialization of structured data, crucial for compatibility with certain components of our project.\n",
        "\n",
        "The installation of these libraries is the first step in setting up our project environment, laying the groundwork for implementing and running our time series forecasting model.\n"
      ],
      "metadata": {
        "id": "2tQyxuQeB8rW"
      }
    },
    {
      "cell_type": "code",
      "source": [
        "!pip install -q transformers datasets evaluate accelerate \"gluonts[torch]\" ujson tqdm\n",
        "!pip install -q protobuf --upgrade # without it, the evaluation code fails"
      ],
      "metadata": {
        "id": "rKFIyjH7-GBA"
      },
      "execution_count": null,
      "outputs": []
    },
    {
      "cell_type": "markdown",
      "source": [
        "## Loading and Configuring the \"Solar Energy\" Dataset\n",
        "\n",
        "We begin by loading the \"Solar Energy\" dataset, which contains time series data of solar power production. This dataset's unique characteristics guide our model's configuration.\n",
        "\n",
        "- `get_dataset(\"solar-energy\")`: This function call loads the \"solar-energy\" dataset, which is crucial for our time series forecasting project focused on solar energy production.\n",
        "- `freq`: Represents the frequency of data recording in the dataset. Understanding this frequency is essential to align our model with the temporal dynamics of the dataset.\n",
        "- `prediction_length`: It's the horizon over which forecasts are made. For the \"solar-energy\" dataset, this length is typically set based on the standard forecasting needs in solar energy analysis, such as predicting solar output for the next 24 hours.\n",
        "- `context_length`: This parameter is crucial for defining how much historical data the model should consider for making predictions. Given the hourly recording frequency, we use a week's data to provide adequate context for our forecasts.\n",
        "- `batch_size`, `num_batches_per_epoch`, `epochs`, `scaling`: These parameters are adjusted considering the specific characteristics of the \"solar-energy\" dataset, balancing computational efficiency with the model's ability to capture temporal patterns in solar energy production.\n",
        "\n",
        "By tailoring these parameters to the \"solar-energy\" dataset, we aim to optimize our model's ability to make accurate forecasts in the context of solar energy production.\n"
      ],
      "metadata": {
        "id": "hXqo-j0wDFNJ"
      }
    },
    {
      "cell_type": "code",
      "source": [
        "from gluonts.dataset.repository.datasets import get_dataset\n",
        "\n",
        "dataset = get_dataset(\"solar-energy\")\n",
        "freq = dataset.metadata.freq\n",
        "prediction_length = dataset.metadata.prediction_length\n",
        "print(f\"Solar Energy dataset prediction_length: {prediction_length}\")"
      ],
      "metadata": {
        "colab": {
          "base_uri": "https://localhost:8080/"
        },
        "id": "VgGxiQz7-O_s",
        "outputId": "b3ac39ab-52aa-4f16-d4cd-8e7cb7387f6e"
      },
      "execution_count": null,
      "outputs": [
        {
          "output_type": "stream",
          "name": "stdout",
          "text": [
            "Solar Energy dataset prediction_length: 24\n"
          ]
        }
      ]
    },
    {
      "cell_type": "code",
      "source": [
        "# Exploring the Solar Energy Dataset\n",
        "\n",
        "# Import necessary libraries\n",
        "import pandas as pd\n",
        "\n",
        "# Assuming 'test_dataset' or 'train_dataset' is a GluonTS dataset\n",
        "test_ds = list(test_dataset)  # Convert to list for easier manipulation\n",
        "\n",
        "# Displaying basic characteristics of the dataset\n",
        "num_time_series = len(test_ds)\n",
        "print(f\"Number of time series in the dataset: {num_time_series}\")\n",
        "\n",
        "# Assuming all time series have the same length and frequency\n",
        "if num_time_series > 0:\n",
        "    length_of_series = len(test_ds[0]['target'])\n",
        "    frequency_of_data = test_ds[0][FieldName.START].freq\n",
        "    print(f\"Length of each time series: {length_of_series}\")\n",
        "    print(f\"Frequency of data collection: {frequency_of_data}\")"
      ],
      "metadata": {
        "colab": {
          "base_uri": "https://localhost:8080/"
        },
        "id": "s3fKuoSoJNV-",
        "outputId": "bf52d57e-b4c6-4607-d2ce-33f102620a91"
      },
      "execution_count": null,
      "outputs": [
        {
          "output_type": "stream",
          "name": "stdout",
          "text": [
            "Number of time series in the dataset: 959\n",
            "Length of each time series: 7033\n",
            "Frequency of data collection: <Hour>\n"
          ]
        }
      ]
    },
    {
      "cell_type": "markdown",
      "source": [
        "## Visualization of Solar Energy Dataset\n",
        "\n",
        "Visualizing a sample from our dataset is a critical step in understanding the underlying patterns and characteristics of the time series data. This visualization helps in getting an intuitive grasp of how the solar energy output varies over time.\n",
        "\n",
        "- **Plotting Train and Test Data:** We plot a segment of both the training and test data. The training data is represented in blue, and the test data is overlaid in red with partial transparency. This overlay helps in comparing the patterns and trends in both sets.\n",
        "- **Number of Samples:** We select a number of samples to plot, defined by `4 * prediction_length`. This quantity ensures we visualize a substantial portion of the data, providing a clear picture of the short-term variations and trends in solar energy output.\n",
        "- **Plot Customization:** We add labels to the x-axis (\"Time Points\") and y-axis (\"Energy Output\") for clarity. A title (\"Solar Energy Dataset: Train vs Test Samples\") is also added to describe the content of the plot. The legend differentiates between the training and test data.\n",
        "- **Purpose:** This visualization aids in preliminary analysis, allowing us to observe patterns like daily cycles, fluctuations, and potential anomalies. Such insights are valuable in tailoring our model and preprocessing steps to the specific characteristics of solar energy data.\n",
        "\n",
        "Overall, this visualization serves as a foundational step in our exploratory data analysis, guiding subsequent model configuration and feature engineering decisions.\n"
      ],
      "metadata": {
        "id": "gjVSBhSsDpei"
      }
    },
    {
      "cell_type": "code",
      "source": [
        "import matplotlib.pyplot as plt\n",
        "\n",
        "train_example = next(iter(dataset.train))\n",
        "test_example = next(iter(dataset.test))\n",
        "\n",
        "num_of_samples = 4 * prediction_length\n",
        "\n",
        "figure, axes = plt.subplots()\n",
        "axes.plot(train_example[\"target\"][-num_of_samples:], color=\"blue\", label=\"Train Data\")\n",
        "axes.plot(\n",
        "    test_example[\"target\"][-num_of_samples - prediction_length:],\n",
        "    color=\"red\",\n",
        "    alpha=0.5,\n",
        "    label=\"Test Data\"\n",
        ")\n",
        "\n",
        "axes.set_title(\"Solar Energy Dataset: Train vs Test Samples\")\n",
        "axes.set_xlabel(\"Time Points\")\n",
        "axes.set_ylabel(\"Energy Output\")\n",
        "axes.legend()\n",
        "\n",
        "plt.show()"
      ],
      "metadata": {
        "colab": {
          "base_uri": "https://localhost:8080/",
          "height": 472
        },
        "id": "cFomyCd6-aqR",
        "outputId": "44827505-7c20-48c7-cb4a-e70bafbae244"
      },
      "execution_count": null,
      "outputs": [
        {
          "output_type": "display_data",
          "data": {
            "text/plain": [
              "<Figure size 640x480 with 1 Axes>"
            ],
            "image/png": "[encoded data removed]"
          },
          "metadata": {}
        }
      ]
    },
    {
      "cell_type": "markdown",
      "source": [
        "## Assigning Training and Test Datasets\n",
        "\n",
        "After loading the \"solar-energy\" dataset, our next step is to segregate the dataset into training and test sets. This separation is critical for the development and evaluation of our forecasting model.\n",
        "\n",
        "- **Training Dataset (`train_dataset`):** This subset of the data is used to train our model. It includes historical solar energy output data, which the model will learn from. The training data is essential for the model to understand and capture the underlying patterns and relationships within the time series.\n",
        "- **Test Dataset (`test_dataset`):** This subset is used to evaluate the model's performance. It is crucial that the test data is not used during the training process. This ensures that we can assess the model's effectiveness and generalization capabilities on unseen data, simulating real-world forecasting scenarios.\n",
        "\n",
        "```python\n",
        "train_dataset = dataset.train\n",
        "test_dataset = dataset.test\n"
      ],
      "metadata": {
        "id": "AM2-IRKzD41Z"
      }
    },
    {
      "cell_type": "code",
      "source": [
        "train_dataset = dataset.train\n",
        "test_dataset = dataset.test"
      ],
      "metadata": {
        "id": "F_RayaxF-f8S"
      },
      "execution_count": null,
      "outputs": []
    },
    {
      "cell_type": "markdown",
      "source": [
        "## Data Transformation Setup\n",
        "\n",
        "Our project employs a series of data transformations to prepare the solar energy time series dataset for the training of our Transformer-based model. These transformations are crucial for ensuring the data is in the appropriate format and contains relevant features for effective model training.\n",
        "\n",
        "- **Importing Necessary Modules:**\n",
        "  - `PretrainedConfig` from `transformers` is used for model configuration.\n",
        "  - `time_features_from_frequency_str` from `gluonts.time_feature` extracts time-based features.\n",
        "  - Various classes from `gluonts.transform` are imported for specific transformation tasks.\n",
        "\n",
        "- **Function `create_transformation`:**\n",
        "  - **Input Parameters:**\n",
        "    - `freq`: The frequency of the dataset, essential for generating time features.\n",
        "    - `config`: A configuration object that contains model settings.\n",
        "  - **Purpose:** This function creates a transformation pipeline to preprocess the data before feeding it into the model.\n",
        "\n",
        "- **Key Steps in the Transformation Chain:**\n",
        "  1. **Remove Unnecessary Fields:** Certain fields are removed from the dataset if they are not specified in the model's configuration.\n",
        "  2. **Data Conversion:** The remaining data fields are converted to NumPy arrays, which is a format suitable for model training.\n",
        "  3. **Handling NaN Values:** The `AddObservedValuesIndicator` transformation handles missing values (NaNs) in the dataset, important for maintaining data integrity.\n",
        "  4. **Adding Time Features:** Time-based features are added to the data, leveraging the dataset's frequency. These features serve as positional encodings, enhancing the model's understanding of temporal dynamics.\n",
        "  5. **Adding Age Feature:** This feature provides a count of time steps from the start of the series to each point, offering additional temporal context.\n",
        "  6. **Stacking Features:** Various temporal features are vertically stacked, consolidating them into a single feature set.\n",
        "  7. **Renaming Fields:** The fields are renamed to align with the naming conventions used in HuggingFace's Transformers library.\n",
        "\n",
        "- **Output:** The function returns a `Chain` object, which is a composite transformation that sequentially applies all the specified transformations to the dataset.\n",
        "\n",
        "By applying these transformations, we ensure that the dataset is optimally prepared for training our forecasting model. This includes handling missing values, extracting relevant temporal features, and structurally organizing the data, all of which are vital steps for effective model training in time series forecasting.\n"
      ],
      "metadata": {
        "id": "6b6Q1vRKEi-6"
      }
    },
    {
      "cell_type": "code",
      "source": [
        "from transformers import PretrainedConfig\n",
        "from gluonts.time_feature import time_features_from_frequency_str\n",
        "\n",
        "from gluonts.dataset.field_names import FieldName\n",
        "from gluonts.transform import (\n",
        "    AddAgeFeature,\n",
        "    AddObservedValuesIndicator,\n",
        "    AddTimeFeatures,\n",
        "    AsNumpyArray,\n",
        "    Chain,\n",
        "    ExpectedNumInstanceSampler,\n",
        "    RemoveFields,\n",
        "    SelectFields,\n",
        "    SetField,\n",
        "    TestSplitSampler,\n",
        "    Transformation,\n",
        "    ValidationSplitSampler,\n",
        "    VstackFeatures,\n",
        "    RenameFields,\n",
        ")\n",
        "\n",
        "def create_transformation(freq: str, config: PretrainedConfig) -> Transformation:\n",
        "    # create a list of fields to remove later\n",
        "    remove_field_names = []\n",
        "    if config.num_static_real_features == 0:\n",
        "        remove_field_names.append(FieldName.FEAT_STATIC_REAL)\n",
        "    if config.num_dynamic_real_features == 0:\n",
        "        remove_field_names.append(FieldName.FEAT_DYNAMIC_REAL)\n",
        "    if config.num_static_categorical_features == 0:\n",
        "        remove_field_names.append(FieldName.FEAT_STATIC_CAT)\n",
        "\n",
        "    return Chain(\n",
        "        # step 1: remove static/dynamic fields if not specified\n",
        "        [RemoveFields(field_names=remove_field_names)]\n",
        "        # step 2: convert the data to NumPy (potentially not needed)\n",
        "        + (\n",
        "            [\n",
        "                AsNumpyArray(\n",
        "                    field=FieldName.FEAT_STATIC_CAT,\n",
        "                    expected_ndim=1,\n",
        "                    dtype=int,\n",
        "                )\n",
        "            ]\n",
        "            if config.num_static_categorical_features > 0\n",
        "            else []\n",
        "        )\n",
        "        + (\n",
        "            [\n",
        "                AsNumpyArray(\n",
        "                    field=FieldName.FEAT_STATIC_REAL,\n",
        "                    expected_ndim=1,\n",
        "                )\n",
        "            ]\n",
        "            if config.num_static_real_features > 0\n",
        "            else []\n",
        "        )\n",
        "        + [\n",
        "            AsNumpyArray(\n",
        "                field=FieldName.TARGET,\n",
        "                # we expect an extra dim for the multivariate case:\n",
        "                expected_ndim=1 if config.input_size == 1 else 2,\n",
        "            ),\n",
        "            # step 3: handle the NaN's by filling in the target with zero\n",
        "            # and return the mask (which is in the observed values)\n",
        "            # true for observed values, false for nan's\n",
        "            # the decoder uses this mask (no loss is incurred for unobserved values)\n",
        "            # see loss_weights inside the xxxForPrediction model\n",
        "            AddObservedValuesIndicator(\n",
        "                target_field=FieldName.TARGET,\n",
        "                output_field=FieldName.OBSERVED_VALUES,\n",
        "            ),\n",
        "            # step 4: add temporal features based on freq of the dataset\n",
        "            # these serve as positional encodings\n",
        "            AddTimeFeatures(\n",
        "                start_field=FieldName.START,\n",
        "                target_field=FieldName.TARGET,\n",
        "                output_field=FieldName.FEAT_TIME,\n",
        "                time_features=time_features_from_frequency_str(freq),\n",
        "                pred_length=config.prediction_length,\n",
        "            ),\n",
        "            # step 5: add another temporal feature (just a single number)\n",
        "            # tells the model where in the life the value of the time series is\n",
        "            # sort of running counter\n",
        "            AddAgeFeature(\n",
        "                target_field=FieldName.TARGET,\n",
        "                output_field=FieldName.FEAT_AGE,\n",
        "                pred_length=config.prediction_length,\n",
        "                log_scale=True,\n",
        "            ),\n",
        "            # step 6: vertically stack all the temporal features into the key FEAT_TIME\n",
        "            VstackFeatures(\n",
        "                output_field=FieldName.FEAT_TIME,\n",
        "                input_fields=[FieldName.FEAT_TIME, FieldName.FEAT_AGE]\n",
        "                + (\n",
        "                    [FieldName.FEAT_DYNAMIC_REAL]\n",
        "                    if config.num_dynamic_real_features > 0\n",
        "                    else []\n",
        "                ),\n",
        "            ),\n",
        "            # step 7: rename to match HuggingFace names\n",
        "            RenameFields(\n",
        "                mapping={\n",
        "                    FieldName.FEAT_STATIC_CAT: \"static_categorical_features\",\n",
        "                    FieldName.FEAT_STATIC_REAL: \"static_real_features\",\n",
        "                    FieldName.FEAT_TIME: \"time_features\",\n",
        "                    FieldName.TARGET: \"values\",\n",
        "                    FieldName.OBSERVED_VALUES: \"observed_mask\",\n",
        "                }\n",
        "            ),\n",
        "        ]\n",
        "    )"
      ],
      "metadata": {
        "id": "UHIspkCIEhdb"
      },
      "execution_count": null,
      "outputs": []
    },
    {
      "cell_type": "markdown",
      "source": [
        "## Instance Splitter Setup for Dataset Sampling\n",
        "\n",
        "To train and evaluate our time series forecasting model, we need to sample windows of data from our solar energy dataset. The `create_instance_splitter` function is designed to handle this task, creating samples for training, validation, and testing.\n",
        "\n",
        "- **Inputs:**\n",
        "  - `config`: The configuration object containing model settings, including prediction and context lengths.\n",
        "  - `mode`: Specifies the mode of operation (training, validation, or testing).\n",
        "  - `train_sampler`, `validation_sampler`: Optional custom samplers for training and validation modes.\n",
        "\n",
        "- **Functionality:**\n",
        "  - The function uses different sampling strategies based on the mode. For training, it often samples instances covering the entire prediction length. For validation and testing, it ensures that samples have enough future data for accurate forecasting.\n",
        "  - The `InstanceSplitter` class from GluonTS is used to create these samples. It segments the dataset into 'past' and 'future' windows, respecting the specified `context_length` and `prediction_length`.\n",
        "\n",
        "- **Instance Sampler:**\n",
        "  - Defined based on the mode. For training, it can be a custom sampler or the default `ExpectedNumInstanceSampler`. Similarly, for validation and testing, appropriate samplers like `ValidationSplitSampler` and `TestSplitSampler` are used.\n",
        "  - These samplers determine how the windows are extracted from the dataset, which is critical for model training and evaluation.\n",
        "\n",
        "- **Output:**\n",
        "  - The function returns an `InstanceSplitter` object configured with the specified sampler. This splitter is then used to generate training, validation, or test instances from the dataset.\n",
        "\n",
        "By carefully setting up the instance splitter, we ensure that our model is trained and evaluated on appropriately sampled data windows. This setup is key to capturing the temporal dynamics in solar energy production and achieving accurate forecasts.\n"
      ],
      "metadata": {
        "id": "wu_sHjXpE_49"
      }
    },
    {
      "cell_type": "code",
      "source": [
        "from gluonts.transform import InstanceSplitter\n",
        "from gluonts.transform.sampler import InstanceSampler\n",
        "from typing import Optional\n",
        "\n",
        "\n",
        "def create_instance_splitter(\n",
        "    config: PretrainedConfig,\n",
        "    mode: str,\n",
        "    train_sampler: Optional[InstanceSampler] = None,\n",
        "    validation_sampler: Optional[InstanceSampler] = None,\n",
        ") -> Transformation:\n",
        "    assert mode in [\"train\", \"validation\", \"test\"]\n",
        "\n",
        "    instance_sampler = {\n",
        "        \"train\": train_sampler\n",
        "        or ExpectedNumInstanceSampler(\n",
        "            num_instances=1.0, min_future=config.prediction_length\n",
        "        ),\n",
        "        \"validation\": validation_sampler\n",
        "        or ValidationSplitSampler(min_future=config.prediction_length),\n",
        "        \"test\": TestSplitSampler(),\n",
        "    }[mode]\n",
        "\n",
        "    return InstanceSplitter(\n",
        "        target_field=\"values\",\n",
        "        is_pad_field=FieldName.IS_PAD,\n",
        "        start_field=FieldName.START,\n",
        "        forecast_start_field=FieldName.FORECAST_START,\n",
        "        instance_sampler=instance_sampler,\n",
        "        past_length=config.context_length + max(config.lags_sequence),\n",
        "        future_length=config.prediction_length,\n",
        "        time_series_fields=[\"time_features\", \"observed_mask\"],\n",
        "    )"
      ],
      "metadata": {
        "id": "onX6P5IBFBFD"
      },
      "execution_count": null,
      "outputs": []
    },
    {
      "cell_type": "markdown",
      "source": [
        "## Creation of Training DataLoader\n",
        "\n",
        "In our model training process, the creation of a training dataloader is a key step. It determines how the preprocessed and transformed data is batched and presented to the model during the training phase.\n",
        "\n",
        "- **Function `create_train_dataloader`:**\n",
        "  - **Inputs:**\n",
        "    - `config`: A configuration object containing settings for our model.\n",
        "    - `freq`: The frequency of the dataset, guiding the transformation process.\n",
        "    - `data`: The dataset on which the model will be trained.\n",
        "    - `batch_size`: The number of samples in each batch.\n",
        "    - `num_batches_per_epoch`: Total number of batches processed in each training epoch.\n",
        "    - `shuffle_buffer_length`: Optional parameter to define the buffer length for shuffling data.\n",
        "    - `cache_data`: Boolean to decide whether to cache the transformed data.\n",
        "\n",
        "- **Functionality:**\n",
        "  1. **Prediction Input Names:** Identifies the types of inputs required by the model, like past values and time features. Includes static categorical and real features if present in the dataset.\n",
        "  2. **Data Transformation:** Applies the previously defined transformation pipeline to the dataset, preparing it for training.\n",
        "  3. **Instance Splitter:** Utilizes the `create_instance_splitter` function to create training instances from the transformed data.\n",
        "  4. **Data Streaming:** Sets up a cyclic stream of the transformed data, ensuring continuous availability of data for training.\n",
        "  5. **Batch Assembly:** Assembles the data into batches using the `as_stacked_batches` function from GluonTS. This function organizes the data into the specified batch size, optionally shuffles it, and formats it as PyTorch tensors.\n",
        "\n",
        "- **Output:**\n",
        "  - The function returns an iterable dataloader, which is used in the training loop of the model. This dataloader efficiently feeds batches of data into the model, respecting the specified batch size and sequence of inputs.\n",
        "\n",
        "This training dataloader is a fundamental component of our model's training pipeline. It ensures that data is processed and supplied to the model in a manner that facilitates efficient and effective learning. The setup of this dataloader, including its batch size and transformation pipeline, is aligned with the specific requirements of forecasting solar energy output, ensuring that the model receives appropriately preprocessed and structured data.\n"
      ],
      "metadata": {
        "id": "N3FtDjo_FoI5"
      }
    },
    {
      "cell_type": "code",
      "source": [
        "from typing import Iterable\n",
        "\n",
        "import torch\n",
        "from gluonts.itertools import Cyclic, Cached\n",
        "from gluonts.dataset.loader import as_stacked_batches\n",
        "\n",
        "\n",
        "def create_train_dataloader(\n",
        "    config: PretrainedConfig,\n",
        "    freq,\n",
        "    data,\n",
        "    batch_size: int,\n",
        "    num_batches_per_epoch: int,\n",
        "    shuffle_buffer_length: Optional[int] = None,\n",
        "    cache_data: bool = True,\n",
        "    **kwargs,\n",
        ") -> Iterable:\n",
        "    PREDICTION_INPUT_NAMES = [\n",
        "        \"past_time_features\",\n",
        "        \"past_values\",\n",
        "        \"past_observed_mask\",\n",
        "        \"future_time_features\",\n",
        "    ]\n",
        "    if config.num_static_categorical_features > 0:\n",
        "        PREDICTION_INPUT_NAMES.append(\"static_categorical_features\")\n",
        "\n",
        "    if config.num_static_real_features > 0:\n",
        "        PREDICTION_INPUT_NAMES.append(\"static_real_features\")\n",
        "\n",
        "    TRAINING_INPUT_NAMES = PREDICTION_INPUT_NAMES + [\n",
        "        \"future_values\",\n",
        "        \"future_observed_mask\",\n",
        "    ]\n",
        "\n",
        "    transformation = create_transformation(freq, config)\n",
        "    transformed_data = transformation.apply(data, is_train=True)\n",
        "    if cache_data:\n",
        "        transformed_data = Cached(transformed_data)\n",
        "\n",
        "    # we initialize a Training instance\n",
        "    instance_splitter = create_instance_splitter(config, \"train\")\n",
        "\n",
        "    # the instance splitter will sample a window of\n",
        "    # context length + lags + prediction length (from the 366 possible transformed time series)\n",
        "    # randomly from within the target time series and return an iterator.\n",
        "    stream = Cyclic(transformed_data).stream()\n",
        "    training_instances = instance_splitter.apply(stream, is_train=True)\n",
        "\n",
        "    return as_stacked_batches(\n",
        "        training_instances,\n",
        "        batch_size=batch_size,\n",
        "        shuffle_buffer_length=shuffle_buffer_length,\n",
        "        field_names=TRAINING_INPUT_NAMES,\n",
        "        output_type=torch.tensor,\n",
        "        num_batches_per_epoch=num_batches_per_epoch,\n",
        "    )"
      ],
      "metadata": {
        "id": "CLJXqKbtFFJf"
      },
      "execution_count": null,
      "outputs": []
    },
    {
      "cell_type": "markdown",
      "source": [
        "## Creation of Test DataLoader\n",
        "\n",
        "After training our model, evaluating its performance on test data is crucial. The `create_test_dataloader` function is tailored for this purpose, setting up a test dataloader that feeds the transformed test data into the model.\n",
        "\n",
        "- **Function `create_test_dataloader`:**\n",
        "  - **Inputs:**\n",
        "    - `config`: Configuration object containing model settings.\n",
        "    - `freq`: Frequency of the dataset, important for time feature transformations.\n",
        "    - `data`: The test dataset to be evaluated.\n",
        "    - `batch_size`: Number of samples in each test batch.\n",
        "\n",
        "- **Process and Functionality:**\n",
        "  1. **Defining Prediction Input Names:** Identifies the required inputs for the model during testing, including both time-dependent and static features.\n",
        "  2. **Applying Data Transformation:** Uses the `create_transformation` function to apply the appropriate transformations to the test data. This ensures consistency in data format between training and testing.\n",
        "  3. **Instance Splitter for Testing:** Utilizes a test instance splitter to sample the last context window seen during training. This is crucial as it allows the model to make predictions based on the most recent context available in the test set.\n",
        "  4. **Creating Test Instances:** The transformed test data is processed to create test instances, which are then formatted into batches.\n",
        "\n",
        "- **Output:**\n",
        "  - The function returns a dataloader that yields batches of test instances. Each batch is formatted as a PyTorch tensor, ready for input into the model for evaluation.\n",
        "\n",
        "- **Importance in Model Evaluation:**\n",
        "  - This test dataloader is essential for assessing the model's forecasting ability on unseen data. By providing the model with test data in the same format as the training data, we can accurately evaluate its predictive performance and generalization capability.\n",
        "\n",
        "By carefully setting up the test dataloader, we ensure a fair and consistent evaluation of our model. This step is key to understanding how well our model can forecast solar energy output under real-world conditions.\n"
      ],
      "metadata": {
        "id": "GYOZyzD6GBMj"
      }
    },
    {
      "cell_type": "code",
      "source": [
        "def create_test_dataloader(\n",
        "    config: PretrainedConfig,\n",
        "    freq,\n",
        "    data,\n",
        "    batch_size: int,\n",
        "    **kwargs,\n",
        "):\n",
        "    PREDICTION_INPUT_NAMES = [\n",
        "        \"past_time_features\",\n",
        "        \"past_values\",\n",
        "        \"past_observed_mask\",\n",
        "        \"future_time_features\",\n",
        "    ]\n",
        "    if config.num_static_categorical_features > 0:\n",
        "        PREDICTION_INPUT_NAMES.append(\"static_categorical_features\")\n",
        "\n",
        "    if config.num_static_real_features > 0:\n",
        "        PREDICTION_INPUT_NAMES.append(\"static_real_features\")\n",
        "\n",
        "    transformation = create_transformation(freq, config)\n",
        "    transformed_data = transformation.apply(data, is_train=False)\n",
        "\n",
        "    # we create a Test Instance splitter which will sample the very last\n",
        "    # context window seen during training only for the encoder.\n",
        "    instance_sampler = create_instance_splitter(config, \"test\")\n",
        "\n",
        "    # we apply the transformations in test mode\n",
        "    testing_instances = instance_sampler.apply(transformed_data, is_train=False)\n",
        "\n",
        "    return as_stacked_batches(\n",
        "        testing_instances,\n",
        "        batch_size=batch_size,\n",
        "        output_type=torch.tensor,\n",
        "        field_names=PREDICTION_INPUT_NAMES,\n",
        "    )"
      ],
      "metadata": {
        "id": "1Hs1Va4LFu4y"
      },
      "execution_count": null,
      "outputs": []
    },
    {
      "cell_type": "markdown",
      "source": [
        "## Model Configuration and Test DataLoader Setup\n",
        "\n",
        "In this phase, we configure our forecasting model and set up the test dataloader to evaluate its performance on the solar energy dataset.\n",
        "\n",
        "- **Model Configuration:**\n",
        "  - We utilize the `AutoformerConfig` and `AutoformerForPrediction` classes from the `transformers` library.\n",
        "  - A pre-trained Autoformer model, specifically \"kashif/autoformer-traffic-hourly\", is loaded. This model has been trained on hourly traffic data and provides a solid foundation for time series forecasting.\n",
        "  - Given the differences between traffic and solar energy data, further fine-tuning or model training might be necessary to tailor the model to the specifics of solar energy patterns.\n",
        "\n",
        "- **Setting Up Test DataLoader:**\n",
        "  - The `create_test_dataloader` function is invoked to prepare the test dataloader.\n",
        "  - This dataloader will provide batches of the test data from our solar energy dataset, formatted appropriately for evaluation by the Autoformer model.\n",
        "  - The batch size is set to 64, balancing computational efficiency with the need for a representative sample of the test data in each batch.\n",
        "\n",
        "- **Importance of Model Choice and DataLoader:**\n",
        "  - Selecting an appropriate model and setting up a corresponding test dataloader is critical for accurately assessing the model's forecasting capabilities.\n",
        "  - The pre-trained Autoformer model offers advanced features for time series forecasting, but its effectiveness on solar energy data will need to be validated through testing and potentially fine-tuning.\n",
        "\n",
        "By configuring the Autoformer model and preparing the test dataloader, we are setting the stage for a crucial evaluation of our model's ability to forecast solar energy output. This step is vital for understanding the model's applicability to our specific use case and for making any necessary adjustments to optimize its performance.\n"
      ],
      "metadata": {
        "id": "gcxa-f3vGUfC"
      }
    },
    {
      "cell_type": "code",
      "source": [
        "from transformers import AutoformerConfig, AutoformerForPrediction\n",
        "\n",
        "config = AutoformerConfig.from_pretrained(\"kashif/autoformer-traffic-hourly\")\n",
        "model = AutoformerForPrediction.from_pretrained(\"kashif/autoformer-traffic-hourly\")\n",
        "\n",
        "test_dataloader = create_test_dataloader(\n",
        "    config=config,\n",
        "    freq=freq,\n",
        "    data=test_dataset,\n",
        "    batch_size=64,\n",
        ")"
      ],
      "metadata": {
        "id": "PUKUBl7qGEbe"
      },
      "execution_count": null,
      "outputs": []
    },
    {
      "cell_type": "markdown",
      "source": [
        "## Model Evaluation with Test DataLoader\n",
        "\n",
        "The final stage of our project involves evaluating the pre-trained Autoformer model on the solar energy dataset using the prepared test dataloader. This step is essential to assess the model's forecasting performance.\n",
        "\n",
        "- **Accelerator Setup:**\n",
        "  - We use the `Accelerator` class to optimize hardware utilization, enhancing the efficiency of our model evaluation process.\n",
        "  - The `Accelerator` handles device placement for us, ensuring that our model and data are moved to the appropriate compute device (like a GPU, if available).\n",
        "\n",
        "- **Model Preparation:**\n",
        "  - The model is transferred to the device (GPU or CPU) determined by the `Accelerator`.\n",
        "  - We set the model to evaluation mode using `model.eval()`. This is important as it disables certain functionalities like dropout, which are only used during training.\n",
        "\n",
        "- **Forecast Generation:**\n",
        "  - We iterate over the batches of test data provided by our dataloader.\n",
        "  - For each batch, we generate forecasts using the `model.generate()` function. This function takes various inputs like static features, past time features, past values, and observed masks, all of which are necessary for the model to make accurate forecasts.\n",
        "  - These inputs are transferred to the appropriate device before being fed into the model.\n",
        "  - The forecasts produced by the model are collected into a list for subsequent analysis.\n",
        "\n",
        "- **Output Collection:**\n",
        "  - The forecasts generated by the model are appended to the `forecasts_` list. Each entry in this list corresponds to the forecasted values for a batch of test data.\n",
        "  - After processing all batches, this list contains the complete set of forecasts for our test dataset.\n",
        "\n",
        "- **Significance:**\n",
        "  - This process allows us to evaluate the model's forecasting ability on unseen data. By comparing these forecasts to the actual values in the test dataset, we can assess the model's accuracy and its potential utility in forecasting solar energy production.\n",
        "  - The use of the `Accelerator` ensures that this evaluation is performed as efficiently as possible, leveraging available computational resources.\n",
        "\n",
        "By executing this evaluation step, we gain valuable insights into how well our model can predict solar energy output, which is crucial for validating the model's effectiveness in practical scenarios.\n"
      ],
      "metadata": {
        "id": "E5vfjdHcGtNw"
      }
    },
    {
      "cell_type": "code",
      "source": [
        "from accelerate import Accelerator\n",
        "\n",
        "accelerator = Accelerator()\n",
        "device = accelerator.device\n",
        "model.to(device)\n",
        "model.eval()\n",
        "\n",
        "forecasts_ = []\n",
        "for batch in test_dataloader:\n",
        "    outputs = model.generate(\n",
        "        static_categorical_features=batch[\"static_categorical_features\"].to(device)\n",
        "        if config.num_static_categorical_features > 0\n",
        "        else None,\n",
        "        static_real_features=batch[\"static_real_features\"].to(device)\n",
        "        if config.num_static_real_features > 0\n",
        "        else None,\n",
        "        past_time_features=batch[\"past_time_features\"].to(device),\n",
        "        past_values=batch[\"past_values\"].to(device),\n",
        "        future_time_features=batch[\"future_time_features\"].to(device),\n",
        "        past_observed_mask=batch[\"past_observed_mask\"].to(device),\n",
        "    )\n",
        "    forecasts_.append(outputs.sequences.cpu().numpy())"
      ],
      "metadata": {
        "id": "LVnR1WJDGXB6"
      },
      "execution_count": null,
      "outputs": []
    },
    {
      "cell_type": "markdown",
      "source": [
        "## Analyzing the Shape of Forecasted Outputs\n",
        "\n",
        "After generating forecasts using our model, it's important to understand the structure of these forecasts. The line of code `forecasts_[0].shape` serves this purpose by revealing the dimensions of the forecast output for the first batch in our test dataset.\n",
        "\n",
        "- **Purpose of `.shape`:**\n",
        "  - The `.shape` attribute of a NumPy array (or a similar structure like a PyTorch tensor) provides the dimensions of the array.\n",
        "  - In the context of our forecasts, it tells us how the model has structured its predictions.\n",
        "\n",
        "- **Expected Output:**\n",
        "  - The shape typically returns a tuple representing the dimensions of the forecast array.\n",
        "  - For a univariate time series forecasting model (predicting a single variable), we expect a shape like `(batch_size, prediction_length)`.\n",
        "  - If the model is multivariate (predicting multiple variables), the shape would likely be `(batch_size, prediction_length, number_of_features)`.\n",
        "\n",
        "- **Interpretation:**\n",
        "  - `batch_size`: The number of individual time series predictions included in a single batch. It should align with the `batch_size` parameter used in the test dataloader.\n",
        "  - `prediction_length`: This dimension represents the length of the forecast horizon, indicating how many time steps into the future the model has predicted for each time series in the batch.\n",
        "  - `number_of_features`: Present in multivariate forecasts, indicating the number of variables/features predicted at each time step.\n",
        "\n",
        "- **Significance:**\n",
        "  - Understanding the shape of the forecast output is crucial for subsequent analysis. It ensures that the dimensions of the model's forecasts align with our expectations and the requirements of our forecasting task.\n",
        "  - It also aids in preparing for any post-processing steps, such as reshaping the forecasts for comparison against actual values or visualizing the predictions.\n",
        "\n",
        "By inspecting `forecasts_[0].shape`, we gain a clear understanding of how our model structures its predictions, which is a vital step in evaluating the model's output and further analyzing its forecasting capabilities.\n"
      ],
      "metadata": {
        "id": "fXUO_q2YHO7X"
      }
    },
    {
      "cell_type": "code",
      "source": [
        "forecasts_[0].shape"
      ],
      "metadata": {
        "colab": {
          "base_uri": "https://localhost:8080/"
        },
        "id": "caeeAiQLGv4C",
        "outputId": "516f1fb9-dc58-49af-cc0e-b43919849dd7"
      },
      "execution_count": null,
      "outputs": [
        {
          "output_type": "execute_result",
          "data": {
            "text/plain": [
              "(64, 100, 24)"
            ]
          },
          "metadata": {},
          "execution_count": 128
        }
      ]
    },
    {
      "cell_type": "markdown",
      "source": [
        "## Aggregating Model Forecasts\n",
        "\n",
        "After generating forecasts for individual batches in our test dataset, we need to aggregate these forecasts to analyze the model's overall performance. The provided code accomplishes this aggregation and helps us understand the collective shape of the forecasts.\n",
        "\n",
        "- **Process of Aggregation:**\n",
        "  - The `np.vstack(forecasts_)` function is used to vertically stack the forecast arrays from each batch into a single array. This is an essential step as it consolidates all individual batch forecasts into one array for ease of analysis.\n",
        "  - The `forecasts_` variable is a list where each element is an array of forecasts for a batch. By stacking them vertically, we align all the forecasts along a new axis, creating a comprehensive view of the model's predictions across the entire test dataset.\n",
        "\n",
        "- **Output Analysis:**\n",
        "  - After the aggregation, we use `print(forecasts.shape)` to display the shape of this combined forecast array.\n",
        "  - The shape provides us with two crucial pieces of information:\n",
        "    - **Total Number of Predictions:** The first dimension of the shape indicates the total number of time series predictions made across all batches.\n",
        "    - **Forecast Horizon:** The second dimension (and possibly third, in case of multivariate forecasts) represents the length of the forecast horizon, and, in the case of multivariate forecasts, the number of predicted features.\n",
        "\n",
        "- **Significance:**\n",
        "  - Understanding the aggregated shape of the forecasts is vital for subsequent steps, such as performance evaluation metrics calculation, where we need to compare these forecasts against the actual values.\n",
        "  - It also ensures that the model's predictions are consistent and aligned in terms of dimensions across different batches.\n",
        "\n",
        "By aggregating and examining the shape of the forecasts, we ensure that we have a coherent and comprehensive set of predictions from our model. This step is key to performing an effective and thorough evaluation of the model's forecasting ability on the solar energy dataset.\n"
      ],
      "metadata": {
        "id": "x-xqLwDMHbvs"
      }
    },
    {
      "cell_type": "code",
      "source": [
        "import numpy as np\n",
        "\n",
        "forecasts = np.vstack(forecasts_)\n",
        "print(forecasts.shape)"
      ],
      "metadata": {
        "colab": {
          "base_uri": "https://localhost:8080/"
        },
        "id": "Ib0VVdmXHREe",
        "outputId": "d531123f-b0e4-4810-aee5-251694cbfb06"
      },
      "execution_count": null,
      "outputs": [
        {
          "output_type": "stream",
          "name": "stdout",
          "text": [
            "(959, 100, 24)\n"
          ]
        }
      ]
    },
    {
      "cell_type": "markdown",
      "source": [
        "## Computing Mean Absolute Scaled Error (MASE) for Forecast Evaluation\n",
        "\n",
        "To assess the accuracy of our model's forecasts, we calculate the Mean Absolute Scaled Error (MASE) for each time series in the test dataset. MASE is a robust and scale-independent metric that is particularly suited for time series data.\n",
        "\n",
        "- **Process of MASE Calculation:**\n",
        "  - We utilize the `mase_metric` from the `evaluate` library, which provides a convenient and standardized way to calculate MASE.\n",
        "  - The median of the forecasts (`forecast_median`) is computed as the central tendency of our predictions. This median forecast is used as the prediction to compare against the actual values.\n",
        "  - For each time series in the test dataset (iterated using `tqdm` for progress tracking), we:\n",
        "    - Extract the training data (`training_data`) and the ground truth values (`ground_truth`) for the prediction length.\n",
        "    - Compute the MASE using the `mase_metric.compute` method, which compares the median forecast with the actual values, normalized by the error of a naïve forecast model on the training data.\n",
        "    - The `get_seasonality(freq)` function is used to determine the periodicity of the time series, which is a required parameter for MASE calculation in seasonal time series.\n",
        "\n",
        "- **MASE Metric Collection:**\n",
        "  - The calculated MASE value for each time series is appended to the `mase_metrics` list. This list will contain the MASE scores for all the time series in the test dataset, providing a comprehensive view of the model's forecasting accuracy.\n",
        "\n",
        "- **Importance of MASE:**\n",
        "  - MASE is a highly informative metric for evaluating forecasting models as it is scale-independent and interpretable. A MASE less than one indicates that the model forecasts are better than a naïve baseline model.\n",
        "  - By calculating MASE for each time series, we gain insights into the model's performance across different patterns and conditions present in the solar energy dataset.\n",
        "\n",
        "This step of calculating and analyzing MASE is crucial in our evaluation process. It helps us quantify the model's forecasting accuracy and understand its strengths and weaknesses in predicting solar energy output.\n"
      ],
      "metadata": {
        "id": "hMZQtQz0Htnc"
      }
    },
    {
      "cell_type": "code",
      "source": [
        "from tqdm.autonotebook import tqdm\n",
        "from evaluate import load\n",
        "from gluonts.time_feature import get_seasonality\n",
        "\n",
        "mase_metric = load(\"evaluate-metric/mase\")\n",
        "\n",
        "forecast_median = np.median(forecasts, 1)\n",
        "\n",
        "mase_metrics = []\n",
        "for item_id, ts in enumerate(tqdm(test_dataset)):\n",
        "    training_data = ts[\"target\"][:-prediction_length]\n",
        "    ground_truth = ts[\"target\"][-prediction_length:]\n",
        "    mase = mase_metric.compute(\n",
        "        predictions=forecast_median[item_id],\n",
        "        references=np.array(ground_truth),\n",
        "        training=np.array(training_data),\n",
        "        periodicity=get_seasonality(freq))\n",
        "    mase_metrics.append(mase[\"mase\"])"
      ],
      "metadata": {
        "colab": {
          "base_uri": "https://localhost:8080/",
          "height": 49,
          "referenced_widgets": [
            "34df3b5c767b422eb6c534bbbbc4345d",
            "ed2ea180548a4d0b983d8d78fd3665af",
            "7675aa18b1054a9193bbbefe01ac8a16",
            "a86fe9fe3e9d41a49773d19c9bdfb5e1",
            "f724a2ec31c7479a90ad4d23f0dff51c",
            "f4a5c0ea157144a193e72c2501244d32",
            "9b07f059aeaf4c5f8deaa38ad7c21b36",
            "d7d767209dd34bc490a9ed8fd1ac0c1c",
            "bd9c5be7cdce41b09a31c6488c0e1d3a",
            "1f50a68278db45769cc82716e4659a85",
            "8351f8e60bac489da453da0f2a96ade8"
          ]
        },
        "id": "ejTLZq0BHfC-",
        "outputId": "7ddd1601-bf55-451d-9142-aefc857f7530"
      },
      "execution_count": null,
      "outputs": [
        {
          "output_type": "display_data",
          "data": {
            "text/plain": [
              "  0%|          | 0/959 [00:00<?, ?it/s]"
            ],
            "application/vnd.jupyter.widget-view+json": {
              "version_major": 2,
              "version_minor": 0,
              "model_id": "34df3b5c767b422eb6c534bbbbc4345d"
            }
          },
          "metadata": {}
        }
      ]
    },
    {
      "cell_type": "markdown",
      "source": [
        "So the result for the Autoformer model is:\n"
      ],
      "metadata": {
        "id": "VpnQ4y-6IHdv"
      }
    },
    {
      "cell_type": "code",
      "source": [
        "print(f\"Autoformer univariate MASE: {np.mean(mase_metrics):.3f}\")"
      ],
      "metadata": {
        "colab": {
          "base_uri": "https://localhost:8080/"
        },
        "id": "1dicFO5tHx4W",
        "outputId": "a648a609-dd45-44dc-b0e9-c7d34fdd9601"
      },
      "execution_count": null,
      "outputs": [
        {
          "output_type": "stream",
          "name": "stdout",
          "text": [
            "Autoformer univariate MASE: 1.650\n"
          ]
        }
      ]
    },
    {
      "cell_type": "markdown",
      "source": [
        "## Visualization of Forecast vs Actual Data for Selected Time Series\n",
        "\n",
        "To visually assess the performance of our forecasting model, we plot the actual values against the model's median forecasts for individual time series in the test dataset.\n",
        "\n",
        "- **Function `plot(ts_index)`:**\n",
        "  - **Purpose:** This function generates a plot for the time series specified by `ts_index`, an index into the test dataset.\n",
        "  - **Inputs:**\n",
        "    - `ts_index`: The index of the specific time series in the test dataset that we want to visualize.\n",
        "\n",
        "- **Plotting Process:**\n",
        "  1. **Creating Time Index:**\n",
        "     - We use `pd.period_range` to create a date-time index for the time series, starting from the `start` date of the time series and covering the total number of periods (length of the target array) with the specified frequency.\n",
        "     - This index serves as the x-axis for our plot, providing the temporal context for the data points.\n",
        "\n",
        "  2. **Plotting Actual Values:**\n",
        "     - The actual values of the time series are plotted for the last `5 * prediction_length` periods to provide sufficient context leading up to the forecast period.\n",
        "     - These values are labeled as \"actual\" in the plot, serving as the ground truth against which we compare our forecasts.\n",
        "\n",
        "  3. **Plotting Median Forecasts:**\n",
        "     - We plot the median of the forecasts generated by our model for the last `prediction_length` periods.\n",
        "     - The median forecast is chosen to represent a central tendency of the model's predictions, providing a robust comparison point to the actual values.\n",
        "\n",
        "  4. **Formatting the Plot:**\n",
        "     - The x-axis dates are formatted for better readability.\n",
        "     - A legend is included for clarity, differentiating between the actual values and the median forecast.\n",
        "\n",
        "- **Visualization Output:**\n",
        "  - The function displays a line plot showing both the actual values and the model's median forecasts for the selected time series.\n",
        "  - This visual comparison allows us to assess how closely the model's forecasts align with the actual values, highlighting areas of strong performance and potential discrepancies.\n",
        "\n",
        "- **Significance:**\n",
        "  - Visualizing the forecasts in this manner offers an intuitive way to evaluate the model's performance.\n",
        "  - It helps in identifying patterns, trends, and anomalies in the forecasts, providing valuable insights for model evaluation and improvement.\n",
        "\n",
        "This visualization tool is an essential part of our analysis, enabling a clear and immediate understanding of the model's forecasting capabilities for individual time series within the solar energy dataset.\n"
      ],
      "metadata": {
        "id": "Fewj5sdUIbCE"
      }
    },
    {
      "cell_type": "code",
      "source": [
        "import matplotlib.dates as mdates\n",
        "import pandas as pd\n",
        "\n",
        "test_ds = list(test_dataset)\n",
        "\n",
        "def plot(ts_index):\n",
        "    fig, ax = plt.subplots()\n",
        "\n",
        "    index = pd.period_range(\n",
        "        start=test_ds[ts_index][FieldName.START],\n",
        "        periods=len(test_ds[ts_index][FieldName.TARGET]),\n",
        "        freq=test_ds[ts_index][FieldName.START].freq,\n",
        "    ).to_timestamp()\n",
        "\n",
        "    ax.plot(\n",
        "        index[-5*prediction_length:],\n",
        "        test_ds[ts_index][\"target\"][-5*prediction_length:],\n",
        "        label=\"actual\",\n",
        "    )\n",
        "\n",
        "    plt.plot(\n",
        "        index[-prediction_length:],\n",
        "        np.median(forecasts[ts_index], axis=0),\n",
        "        label=\"median\",\n",
        "    )\n",
        "\n",
        "    plt.gcf().autofmt_xdate()\n",
        "    plt.legend(loc=\"best\")\n",
        "    plt.show()"
      ],
      "metadata": {
        "id": "V9bXbFFuIIsj"
      },
      "execution_count": null,
      "outputs": []
    },
    {
      "cell_type": "code",
      "source": [
        "plot(4)"
      ],
      "metadata": {
        "colab": {
          "base_uri": "https://localhost:8080/",
          "height": 425
        },
        "id": "zFkkt0mfIepp",
        "outputId": "9962ac19-93c4-42f3-dd42-acf2e1272dbb"
      },
      "execution_count": null,
      "outputs": [
        {
          "output_type": "display_data",
          "data": {
            "text/plain": [
              "<Figure size 640x480 with 1 Axes>"
            ],
            "image/png": "[encoded data removed]"
          },
          "metadata": {}
        }
      ]
    },
    {
      "cell_type": "markdown",
      "source": [
        "## Setting Up the DLinear Model for Time Series Forecasting\n",
        "\n",
        "After evaluating the Autoformer model, our project also explores the performance of the DLinear model, another approach for time series forecasting. The DLinear model is known for its simplicity and effectiveness in handling time series data.\n",
        "\n",
        "- **Model Configuration with `DLinearEstimator`:**\n",
        "  - We use the `DLinearEstimator` from `gluonts.torch.model.d_linear.estimator`.\n",
        "  - The model is configured to align with the parameters used for the Autoformer model, ensuring a fair comparison between the two models.\n",
        "\n",
        "- **Key Parameters:**\n",
        "  - `prediction_length`: Set to the prediction horizon defined in the dataset's metadata. This determines how far into the future the model will forecast.\n",
        "  - `context_length`: Twice the prediction length, defining the amount of historical data the model will consider for making each forecast.\n",
        "  - `scaling`: The method used for scaling the data. We use the same scaling as the Autoformer model for consistency.\n",
        "  - `hidden_dimension`: A parameter specific to the DLinear model, representing the size of the hidden layer in the network. We set it to 2 as a starting point.\n",
        "  - `batch_size`: The number of time series samples in each training batch.\n",
        "  - `num_batches_per_epoch`: The number of batches processed in each training epoch.\n",
        "  - `trainer_kwargs`: Additional arguments for the model trainer, including the maximum number of epochs (`max_epochs`), set to the same value as used for the Autoformer model.\n",
        "\n",
        "- **Purpose and Expectation:**\n",
        "  - The DLinear model, with its simplicity, serves as a baseline against which we can compare the more complex Autoformer model.\n",
        "  - By aligning key parameters like prediction length, context length, and training epochs, we aim to conduct a fair and meaningful comparison between the two models in terms of their forecasting accuracy and efficiency.\n",
        "\n",
        "Configuring the DLinear model with these parameters is a crucial step in our comparative analysis of time series forecasting models. It allows us to assess the trade-offs between model complexity and forecasting performance within the context of our solar energy dataset.\n"
      ],
      "metadata": {
        "id": "4ZTyFxC2K1oa"
      }
    },
    {
      "cell_type": "code",
      "source": [
        "from gluonts.torch.model.d_linear.estimator import DLinearEstimator\n",
        "\n",
        "# Define the DLinear model with the same parameters as the Autoformer model\n",
        "dlinear_estimator = DLinearEstimator(\n",
        "    prediction_length=dataset.metadata.prediction_length,\n",
        "    context_length=dataset.metadata.prediction_length*2,\n",
        "    scaling=scaling,\n",
        "    hidden_dimension=2,\n",
        "\n",
        "    batch_size=batch_size,\n",
        "    num_batches_per_epoch=num_batches_per_epoch,\n",
        "    trainer_kwargs=dict(max_epochs=epochs)\n",
        ")"
      ],
      "metadata": {
        "id": "7hTGtg-zKcX4"
      },
      "execution_count": null,
      "outputs": []
    },
    {
      "cell_type": "markdown",
      "source": [
        "## Training the DLinear Model\n",
        "\n",
        "We train the DLinear model using the configured `estimator` on our solar energy training dataset:\n",
        "\n",
        "- **Training Parameters:**\n",
        "  - `training_data`: The solar energy training dataset.\n",
        "  - `cache_data`: Set to `True` for efficiency, caching the transformed data.\n",
        "  - `shuffle_buffer_length`: Set to 1024 to enhance data shuffling and model generalization.\n",
        "\n",
        "- **Process:**\n",
        "  - The `train` method of the `DLinearEstimator` is called with these parameters.\n",
        "  - This step fine-tunes the model parameters based on the solar energy dataset.\n",
        "\n",
        "- **Output:**\n",
        "  - The training process yields a `predictor` object, representing the trained DLinear model ready for forecasting and evaluation.\n",
        "\n",
        "Post training, we'll assess the DLinear model's forecasting ability and compare it with the Autoformer model.\n"
      ],
      "metadata": {
        "id": "4rO-n1cULf8w"
      }
    },
    {
      "cell_type": "code",
      "source": [
        "predictor_dlinear = dlinear_estimator.train(\n",
        "    training_data=train_dataset,\n",
        "    cache_data=True,\n",
        "    shuffle_buffer_length=1024\n",
        ")"
      ],
      "metadata": {
        "id": "b-EWk9TtK44Z"
      },
      "execution_count": null,
      "outputs": []
    },
    {
      "cell_type": "markdown",
      "source": [
        "## Evaluating the DLinear Model\n",
        "\n",
        "Post-training, we evaluate the DLinear model's forecasting accuracy on the test dataset.\n",
        "\n",
        "- **Generating Forecasts:**\n",
        "  - `make_evaluation_predictions`: This function is used to generate forecasts for the entire test dataset.\n",
        "  - `forecast_it` and `ts_it` are iterators over the forecasts and corresponding true time series values.\n",
        "\n",
        "- **Converting Iterators to Lists:**\n",
        "  - Both the forecasts and true time series are converted to lists (`d_linear_forecasts` and `d_linear_tss`) for ease of handling in the evaluation process.\n",
        "\n",
        "- **Evaluation Process:**\n",
        "  - An `Evaluator` object from GluonTS is instantiated.\n",
        "  - It is then used to calculate aggregate metrics that assess the model's performance by comparing the forecasts with the actual data.\n",
        "\n",
        "- **Metrics Computation:**\n",
        "  - `evaluator`: Applies various metrics to quantify the forecasting performance.\n",
        "  - `agg_metrics`: Aggregated metrics such as MAE, RMSE, etc., providing an overview of the model's accuracy.\n",
        "\n",
        "This evaluation step is crucial for understanding how well the DLinear model performs in forecasting solar energy output and comparing its effectiveness against the Autoformer model.\n"
      ],
      "metadata": {
        "id": "JxnQ4W-oLyCv"
      }
    },
    {
      "cell_type": "code",
      "source": [
        "from gluonts.evaluation import make_evaluation_predictions, Evaluator\n",
        "\n",
        "forecast_it, ts_it = make_evaluation_predictions(\n",
        "    dataset=dataset.test,\n",
        "    predictor=predictor_dlinear,\n",
        ")\n",
        "\n",
        "d_linear_forecasts = list(forecast_it)\n",
        "d_linear_tss = list(ts_it)\n",
        "\n",
        "dlinear_evaluator = Evaluator()\n",
        "\n",
        "agg_metrics, _ = dlinear_evaluator(iter(d_linear_tss), iter(d_linear_forecasts))"
      ],
      "metadata": {
        "colab": {
          "base_uri": "https://localhost:8080/"
        },
        "id": "4VgDBx4wLvkW",
        "outputId": "da0f5ae0-1264-4907-fff6-c1626c02e103"
      },
      "execution_count": null,
      "outputs": [
        {
          "output_type": "stream",
          "name": "stderr",
          "text": [
            "\n",
            "Running evaluation: 959it [00:00, 2947.17it/s]\n"
          ]
        }
      ]
    },
    {
      "cell_type": "markdown",
      "source": [
        "## Reporting DLinear Model's MASE\n",
        "\n",
        "After evaluating the DLinear model, we focus on a key metric to assess its forecasting accuracy:\n",
        "\n",
        "- **MASE Extraction and Reporting:**\n",
        "  - `dlinear_mase = agg_metrics[\"MASE\"]`: Extracts the Mean Absolute Scaled Error (MASE) from the aggregated metrics.\n",
        "  - `print(f\"DLinear MASE: {dlinear_mase:.3f}\")`: Prints the MASE value with three decimal points.\n",
        "  - A MASE value less than one indicates that the model's forecasts are, on average, more accurate than a naïve forecast.\n",
        "\n",
        "- **Significance:**\n",
        "  - MASE is a scale-independent metric, making it ideal for comparing the performance of different forecasting models.\n",
        "  - This metric provides a clear indication of the DLinear model's accuracy in forecasting solar energy output, crucial for comparing it against the Autoformer model.\n"
      ],
      "metadata": {
        "id": "L1jbfPlxL-rH"
      }
    },
    {
      "cell_type": "code",
      "source": [
        "dlinear_mase = agg_metrics[\"MASE\"]\n",
        "print(f\"DLinear MASE: {dlinear_mase:.3f}\")"
      ],
      "metadata": {
        "colab": {
          "base_uri": "https://localhost:8080/"
        },
        "id": "Y8DmLJU2L0Fi",
        "outputId": "d1726bcc-b66a-491d-b9d9-12c8b1ff641e"
      },
      "execution_count": null,
      "outputs": [
        {
          "output_type": "stream",
          "name": "stdout",
          "text": [
            "DLinear MASE: 2.350\n"
          ]
        }
      ]
    },
    {
      "cell_type": "markdown",
      "source": [
        "## Visualizing DLinear Model Forecasts with `plot_gluonts`\n",
        "\n",
        "The `plot_gluonts` function is created to visually compare actual data with DLinear model forecasts for individual time series in the test dataset.\n",
        "\n",
        "- **Function Definition:**\n",
        "  - `plot_gluonts(index)`: Takes an index as an argument to select a specific time series from the test dataset.\n",
        "\n",
        "- **Plotting Process:**\n",
        "  1. **Plotting Actual Data:**\n",
        "     - Uses `plt.plot` to graph the actual values (`d_linear_tss[index]`) of the selected time series. It plots the last 4 prediction lengths to provide a broader context.\n",
        "     - `to_timestamp()` converts the index to timestamp for clearer x-axis labeling.\n",
        "  2. **Plotting Forecasts:**\n",
        "     - `d_linear_forecasts[index].plot()`: Plots the forecasts generated by the DLinear model, colored in green for distinction.\n",
        "  3. **Formatting:**\n",
        "     - Includes a legend for clarity.\n",
        "     - Applies `plt.gcf().autofmt_xdate()` to format the x-axis dates, enhancing readability.\n",
        "\n",
        "- **Usage:**\n",
        "  - By calling `plot_gluonts` with a specific index, we can visualize how well the DLinear model's forecasts align with the actual time series values.\n",
        "\n",
        "- **Purpose:**\n",
        "  - This visual comparison is valuable for a qualitative assessment of the model's predictive accuracy on individual time series, highlighting areas where the model performs well or where improvements may be needed.\n",
        "\n",
        "This function is an essential tool for analyzing the DLinear model's performance, providing an intuitive and immediate understanding of its forecasting capabilities on the solar energy dataset.\n"
      ],
      "metadata": {
        "id": "UQFXnp_FMQqA"
      }
    },
    {
      "cell_type": "code",
      "source": [
        "def plot_gluonts(index):\n",
        "    plt.plot(d_linear_tss[index][-4 * dataset.metadata.prediction_length:].to_timestamp(), label=\"target\")\n",
        "    d_linear_forecasts[index].plot(show_label=True,  color='g')\n",
        "    plt.legend()\n",
        "    plt.gcf().autofmt_xdate()\n",
        "    plt.show()"
      ],
      "metadata": {
        "id": "RgyNcmK8MPpp"
      },
      "execution_count": null,
      "outputs": []
    },
    {
      "cell_type": "code",
      "source": [
        "plot_gluonts(4)"
      ],
      "metadata": {
        "colab": {
          "base_uri": "https://localhost:8080/",
          "height": 416
        },
        "id": "EFR0aLppMVWw",
        "outputId": "5f949aab-4cb4-4222-de6f-4833f0465bb4"
      },
      "execution_count": null,
      "outputs": [
        {
          "output_type": "display_data",
          "data": {
            "text/plain": [
              "<Figure size 640x480 with 1 Axes>"
            ],
            "image/png": "[encoded data removed]"
          },
          "metadata": {}
        }
      ]
    },
    {
      "cell_type": "code",
      "source": [
        "from gluonts.torch.model.wavenet import WaveNetEstimator\n",
        "\n",
        "# Define the WaveNet model for the solar-energy dataset\n",
        "wavenet_estimator = WaveNetEstimator(\n",
        "    freq=dataset.metadata.freq,\n",
        "    prediction_length=dataset.metadata.prediction_length,\n",
        "    trainer_kwargs=dict(max_epochs=30),  # Number of training epochs\n",
        "    num_residual_channels=24,  # Number of residual channels\n",
        "    num_skip_channels=32,  # Number of skip channels\n",
        "    dilation_depth=None,  # Automatically determined\n",
        "    num_stacks=1,  # Number of dilation stacks\n",
        "    lr=1e-3,  # Learning rate\n",
        "    weight_decay=1e-8,  # Weight decay\n",
        "    batch_size=32,  # Batch size\n",
        "    num_batches_per_epoch=50  # Number of batches per epoch\n",
        ")"
      ],
      "metadata": {
        "id": "bwjaGkeesqf9"
      },
      "execution_count": null,
      "outputs": []
    },
    {
      "cell_type": "code",
      "source": [
        "wavenet_predictor = wavenet_estimator.train(\n",
        "    training_data=train_dataset,\n",
        "    cache_data=True,\n",
        "    shuffle_buffer_length=1024\n",
        ")"
      ],
      "metadata": {
        "id": "tCd7GKH4u1K0"
      },
      "execution_count": null,
      "outputs": []
    },
    {
      "cell_type": "code",
      "source": [
        "from gluonts.evaluation import make_evaluation_predictions, Evaluator\n",
        "\n",
        "# Assuming `wavenet_predictor` is your trained WaveNet model's predictor\n",
        "forecast_it, ts_it = make_evaluation_predictions(\n",
        "    dataset=dataset.test,  # Use the test dataset\n",
        "    predictor=wavenet_predictor,  # Use the WaveNet predictor\n",
        ")\n",
        "\n",
        "wavenet_forecasts = list(forecast_it)\n",
        "wavenet_tss = list(ts_it)\n",
        "\n",
        "wavenet_evaluator = Evaluator()\n",
        "\n",
        "# Evaluate the forecasts\n",
        "agg_metrics, _ = wavenet_evaluator(iter(wavenet_tss), iter(wavenet_forecasts))\n",
        "\n",
        "# agg_metrics will contain the evaluation metrics\n"
      ],
      "metadata": {
        "colab": {
          "base_uri": "https://localhost:8080/"
        },
        "id": "3XsNaYQvx3fl",
        "outputId": "0c822b62-74f6-4ea4-c92a-98d08a41b4e3"
      },
      "execution_count": null,
      "outputs": [
        {
          "output_type": "stream",
          "name": "stderr",
          "text": [
            "\n",
            "Running evaluation: 959it [00:00, 5524.36it/s]\n"
          ]
        }
      ]
    },
    {
      "cell_type": "code",
      "source": [
        "Wavenet_mase = agg_metrics[\"MASE\"]\n",
        "print(f\"Wavenet MASE: {Wavenet_mase:.3f}\")"
      ],
      "metadata": {
        "colab": {
          "base_uri": "https://localhost:8080/"
        },
        "id": "-rFq_XYDyMzZ",
        "outputId": "200ac4e8-2c54-479a-9326-4945927faa6e"
      },
      "execution_count": null,
      "outputs": [
        {
          "output_type": "stream",
          "name": "stdout",
          "text": [
            "Wavenet MASE: 1.163\n"
          ]
        }
      ]
    },
    {
      "cell_type": "code",
      "source": [
        "def plot_gluonts(index):\n",
        "    plt.plot(wavenet_tss[index][-4 * dataset.metadata.prediction_length:].to_timestamp(), label=\"target\")\n",
        "    wavenet_forecasts[index].plot(show_label=True,  color='g')\n",
        "    plt.legend()\n",
        "    plt.gcf().autofmt_xdate()\n",
        "    plt.show()\n",
        "\n",
        "plot_gluonts(4)"
      ],
      "metadata": {
        "colab": {
          "base_uri": "https://localhost:8080/",
          "height": 416
        },
        "id": "75OGQ3Z59F7D",
        "outputId": "029edd75-2c67-4047-d650-ee767d721950"
      },
      "execution_count": null,
      "outputs": [
        {
          "output_type": "display_data",
          "data": {
            "text/plain": [
              "<Figure size 640x480 with 1 Axes>"
            ],
            "image/png": "[encoded data removed]"
          },
          "metadata": {}
        }
      ]
    },
    {
      "cell_type": "code",
      "source": [
        "from gluonts.torch.model.simple_feedforward import SimpleFeedForwardEstimator\n",
        "\n",
        "# Define the SimpleFeedForward model for the solar-energy dataset\n",
        "SFF_estimator = SimpleFeedForwardEstimator(\n",
        "    prediction_length=dataset.metadata.prediction_length,\n",
        "    context_length=10 * dataset.metadata.prediction_length,\n",
        "    hidden_dimensions=[50, 50],  # Example: two hidden layers with 50 nodes each\n",
        "    lr=1e-3,\n",
        "    weight_decay=1e-8,\n",
        "    batch_norm=True,  # Optional: Enable batch normalization\n",
        "    batch_size=32,\n",
        "    num_batches_per_epoch=50,\n",
        "    trainer_kwargs=dict(max_epochs=30)  # Training for 30 epochs\n",
        ")\n"
      ],
      "metadata": {
        "id": "N9jV9BQO11xf"
      },
      "execution_count": null,
      "outputs": []
    },
    {
      "cell_type": "code",
      "source": [
        "SFF_predictor = SFF_estimator.train(\n",
        "    training_data=train_dataset,\n",
        "    cache_data=True,\n",
        "    shuffle_buffer_length=1024\n",
        ")"
      ],
      "metadata": {
        "id": "6eEIIV9L1LpG"
      },
      "execution_count": null,
      "outputs": []
    },
    {
      "cell_type": "code",
      "source": [
        "from gluonts.evaluation import make_evaluation_predictions, Evaluator\n",
        "\n",
        "# Assuming `SimpleFeedForward_predictor` is your trained SimpleFeedForward model's predictor\n",
        "forecast_it, ts_it = make_evaluation_predictions(\n",
        "    dataset=dataset.test,  # Use the test dataset\n",
        "    predictor=SFF_predictor,  # Use the SimpleFeedForward predictor\n",
        ")\n",
        "\n",
        "SimpleFeedForward_forecasts = list(forecast_it)\n",
        "SimpleFeedForward_tss = list(ts_it)\n",
        "\n",
        "SFF_evaluator = Evaluator()\n",
        "\n",
        "# Evaluate the forecasts\n",
        "agg_metrics, _ = SFF_evaluator(iter(SimpleFeedForward_tss), iter(SimpleFeedForward_forecasts))\n",
        "\n",
        "# agg_metrics will contain the evaluation metrics"
      ],
      "metadata": {
        "colab": {
          "base_uri": "https://localhost:8080/"
        },
        "id": "Dau9YUjm2Sfq",
        "outputId": "6e6f188d-04b4-4214-b681-9178de512c42"
      },
      "execution_count": null,
      "outputs": [
        {
          "output_type": "stream",
          "name": "stderr",
          "text": [
            "\n",
            "Running evaluation: 959it [00:00, 3305.76it/s]\n"
          ]
        }
      ]
    },
    {
      "cell_type": "code",
      "source": [
        "SimpleFeedForward_mase = agg_metrics[\"MASE\"]\n",
        "print(f\"SimpleFeedForward MASE: {SimpleFeedForward_mase:.3f}\")"
      ],
      "metadata": {
        "colab": {
          "base_uri": "https://localhost:8080/"
        },
        "id": "sVtGUrbi2pLR",
        "outputId": "9e3eeb3e-aa21-474e-b68a-ce9e228bf47d"
      },
      "execution_count": null,
      "outputs": [
        {
          "output_type": "stream",
          "name": "stdout",
          "text": [
            "SimpleFeedForward MASE: 2.351\n"
          ]
        }
      ]
    },
    {
      "cell_type": "code",
      "source": [
        "def plot_gluonts(index):\n",
        "    plt.plot(SimpleFeedForward_tss[index][-4 * dataset.metadata.prediction_length:].to_timestamp(), label=\"target\")\n",
        "    SimpleFeedForward_forecasts[index].plot(show_label=True,  color='g')\n",
        "    plt.legend()\n",
        "    plt.gcf().autofmt_xdate()\n",
        "    plt.show()\n",
        "\n",
        "plot_gluonts(4)"
      ],
      "metadata": {
        "colab": {
          "base_uri": "https://localhost:8080/",
          "height": 420
        },
        "id": "nCshFR4hAkPw",
        "outputId": "ebd128ff-a457-4d39-898e-381ed4b9dfbb"
      },
      "execution_count": null,
      "outputs": [
        {
          "output_type": "display_data",
          "data": {
            "text/plain": [
              "<Figure size 640x480 with 1 Axes>"
            ],
            "image/png": "[encoded data removed]"
          },
          "metadata": {}
        }
      ]
    },
    {
      "cell_type": "code",
      "source": [
        "from gluonts.torch.model.deepar import DeepAREstimator\n",
        "\n",
        "DAR_estimator = DeepAREstimator(\n",
        "    freq=dataset.metadata.freq,\n",
        "    prediction_length=dataset.metadata.prediction_length,\n",
        "    context_length=2 * dataset.metadata.prediction_length,  # Adjust as needed\n",
        "    num_layers=2,\n",
        "    hidden_size=40,\n",
        "    lr=1e-3,\n",
        "    weight_decay=1e-8,\n",
        "    dropout_rate=0.1,\n",
        "    batch_size=32,\n",
        "    num_batches_per_epoch=50,\n",
        "    trainer_kwargs=dict(max_epochs=30)  # Training for 30 epochs\n",
        ")"
      ],
      "metadata": {
        "id": "6eJCQDUw3gq1"
      },
      "execution_count": null,
      "outputs": []
    },
    {
      "cell_type": "code",
      "source": [
        "DAR_predictor = DAR_estimator.train(\n",
        "    training_data=train_dataset,\n",
        "    cache_data=True,\n",
        "    shuffle_buffer_length=1024\n",
        ")"
      ],
      "metadata": {
        "id": "tyeQub1y32P2"
      },
      "execution_count": null,
      "outputs": []
    },
    {
      "cell_type": "code",
      "source": [
        "from gluonts.evaluation import make_evaluation_predictions, Evaluator\n",
        "\n",
        "# Assuming ` DeepAR_predictor` is your trained  DeepAR model's predictor\n",
        "forecast_it, ts_it = make_evaluation_predictions(\n",
        "    dataset=dataset.test,  # Use the test dataset\n",
        "    predictor=DAR_predictor,  # Use the  DeepAR predictor\n",
        ")\n",
        "\n",
        "DeepAR_forecasts = list(forecast_it)\n",
        "DeepAR_tss = list(ts_it)\n",
        "\n",
        "DAR_evaluator = Evaluator()\n",
        "\n",
        "# Evaluate the forecasts\n",
        "agg_metrics, _ = DAR_evaluator(iter( DeepAR_tss), iter( DeepAR_forecasts))\n"
      ],
      "metadata": {
        "colab": {
          "base_uri": "https://localhost:8080/"
        },
        "id": "Fqp_ttJ74OQJ",
        "outputId": "0bba3983-2d2a-41be-b5b4-0aab91234c83"
      },
      "execution_count": null,
      "outputs": [
        {
          "output_type": "stream",
          "name": "stderr",
          "text": [
            "\n",
            "Running evaluation: 959it [00:00, 3027.77it/s]\n"
          ]
        }
      ]
    },
    {
      "cell_type": "code",
      "source": [
        "DeepAR_mase = agg_metrics[\"MASE\"]\n",
        "print(f\"DeepAR MASE: {DeepAR_mase:.3f}\")"
      ],
      "metadata": {
        "colab": {
          "base_uri": "https://localhost:8080/"
        },
        "id": "0aLm_zvg4ggM",
        "outputId": "45e901fc-3ea3-49c8-e1b2-6bee4008a24a"
      },
      "execution_count": null,
      "outputs": [
        {
          "output_type": "stream",
          "name": "stdout",
          "text": [
            "DeepAR MASE: 1.262\n"
          ]
        }
      ]
    },
    {
      "cell_type": "code",
      "source": [
        "def plot_gluonts(index):\n",
        "    plt.plot(DeepAR_tss[index][-4 * dataset.metadata.prediction_length:].to_timestamp(), label=\"target\")\n",
        "    DeepAR_forecasts[index].plot(show_label=True,  color='g')\n",
        "    plt.legend()\n",
        "    plt.gcf().autofmt_xdate()\n",
        "    plt.show()\n",
        "\n",
        "plot_gluonts(4)"
      ],
      "metadata": {
        "colab": {
          "base_uri": "https://localhost:8080/",
          "height": 416
        },
        "id": "q2iThswJBurm",
        "outputId": "5a871493-aa7c-4026-8784-a64984f05986"
      },
      "execution_count": null,
      "outputs": [
        {
          "output_type": "display_data",
          "data": {
            "text/plain": [
              "<Figure size 640x480 with 1 Axes>"
            ],
            "image/png": "[encoded data removed]"
          },
          "metadata": {}
        }
      ]
    },
    {
      "cell_type": "markdown",
      "source": [
        "\"\"\"\n",
        "\n",
        "Conclusion:\n",
        "------------\n",
        "\n",
        "Project Conclusion: Evaluating NLP Techniques and Deep Learning Frameworks for Time Series Forecasting\n",
        "\n",
        "Overview:\n",
        "---------\n",
        "The project was centered on assessing the efficacy of NLP techniques and deep learning frameworks in the realm of time series forecasting. We employed a variety of models, each embodying different principles of deep learning and NLP, including DeepAR, SimpleFeedForward, WaveNet, DLinear, and Autoformer.\n",
        "\n",
        "Model Performance Analysis:\n",
        "---------------------------\n",
        "- DeepAR (MASE: 1.262): Exhibits satisfactory forecasting accuracy, underscoring the adaptability of recurrent neural network architectures, commonly used in NLP, for time series data.\n",
        "- SimpleFeedForward (MASE: 2.351): The model's lower performance indicates that simpler neural network architectures may be less suited for complex time series forecasting tasks.\n",
        "- WaveNet (MASE: 1.163): Achieving the highest accuracy, this model highlights the effectiveness of convolutional neural network techniques, widely utilized in both deep learning and NLP, for time series forecasting.\n",
        "- DLinear (MASE: 2.350): Similar to the SimpleFeedForward, DLinear's performance suggests that more sophisticated models, like RNNs or CNNs, might be necessary to capture time series data complexities.\n",
        "- Autoformer (MASE: 1.650): As a variant of the transformer model, which has significantly impacted NLP, Autoformer's promising results indicate the potential applicability of transformer-based models in time series forecasting.\n",
        "\n",
        "Insights and Final Thoughts:\n",
        "-----------------------------\n",
        "The comparative analysis of these models demonstrates that deep learning frameworks, particularly those leveraging recurrent and convolutional structures, are indeed effective for time series forecasting. The success of models developed for sequential data processing in NLP tasks can be translated into time series forecasting, as evidenced by the performance of WaveNet and the encouraging outcomes from Autoformer.\n",
        "\n",
        "In conclusion, this project validates the hypothesis that NLP techniques and deep learning frameworks can be effectively harnessed for time series forecasting. It opens pathways for further exploration and refinement, especially in advanced models like transformers, to fully exploit their capabilities in forecasting scenarios.\n",
        "\"\"\"\n"
      ],
      "metadata": {
        "id": "l_saEr8nLhyi"
      }
    }
  ]
}